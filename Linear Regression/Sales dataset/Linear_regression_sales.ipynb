{
 "cells": [
  {
   "attachments": {},
   "cell_type": "markdown",
   "id": "d47f959b",
   "metadata": {},
   "source": [
    "# Linear Regression"
   ]
  },
  {
   "cell_type": "code",
   "execution_count": 3,
   "id": "92819b79",
   "metadata": {},
   "outputs": [
    {
     "ename": "ModuleNotFoundError",
     "evalue": "No module named 'pandas'",
     "output_type": "error",
     "traceback": [
      "\u001b[1;31m---------------------------------------------------------------------------\u001b[0m",
      "\u001b[1;31mModuleNotFoundError\u001b[0m                       Traceback (most recent call last)",
      "\u001b[1;32mc:\\Users\\prath\\JupyterNotebook\\Linear Regression\\Linear Regression.ipynb Cell 2\u001b[0m in \u001b[0;36m2\n\u001b[0;32m      <a href='vscode-notebook-cell:/c%3A/Users/prath/JupyterNotebook/Linear%20Regression/Linear%20Regression.ipynb#W1sZmlsZQ%3D%3D?line=0'>1</a>\u001b[0m \u001b[39m# Importing Libraries\u001b[39;00m\n\u001b[1;32m----> <a href='vscode-notebook-cell:/c%3A/Users/prath/JupyterNotebook/Linear%20Regression/Linear%20Regression.ipynb#W1sZmlsZQ%3D%3D?line=1'>2</a>\u001b[0m \u001b[39mimport\u001b[39;00m \u001b[39mpandas\u001b[39;00m \u001b[39mas\u001b[39;00m \u001b[39mpd\u001b[39;00m\n\u001b[0;32m      <a href='vscode-notebook-cell:/c%3A/Users/prath/JupyterNotebook/Linear%20Regression/Linear%20Regression.ipynb#W1sZmlsZQ%3D%3D?line=2'>3</a>\u001b[0m \u001b[39mimport\u001b[39;00m \u001b[39mmatplotlib\u001b[39;00m\u001b[39m.\u001b[39;00m\u001b[39mpyplot\u001b[39;00m \u001b[39mas\u001b[39;00m \u001b[39mplt\u001b[39;00m\n\u001b[0;32m      <a href='vscode-notebook-cell:/c%3A/Users/prath/JupyterNotebook/Linear%20Regression/Linear%20Regression.ipynb#W1sZmlsZQ%3D%3D?line=3'>4</a>\u001b[0m \u001b[39mfrom\u001b[39;00m \u001b[39msklearn\u001b[39;00m\u001b[39m.\u001b[39;00m\u001b[39mmetrics\u001b[39;00m \u001b[39mimport\u001b[39;00m r2_score, mean_squared_error\n",
      "\u001b[1;31mModuleNotFoundError\u001b[0m: No module named 'pandas'"
     ]
    }
   ],
   "source": [
    "# Importing Libraries\n",
    "import pandas as pd\n",
    "import matplotlib.pyplot as plt\n",
    "from sklearn.metrics import r2_score, mean_squared_error\n",
    "from sklearn.linear_model import LinearRegression\n",
    "from sklearn import model_selection\n",
    "from math import sqrt\n",
    "import numpy as np\n",
    "%matplotlib inline"
   ]
  },
  {
   "cell_type": "code",
   "execution_count": 2,
   "id": "a1a10f99",
   "metadata": {
    "scrolled": true
   },
   "outputs": [
    {
     "ename": "NameError",
     "evalue": "name 'pd' is not defined",
     "output_type": "error",
     "traceback": [
      "\u001b[1;31m---------------------------------------------------------------------------\u001b[0m",
      "\u001b[1;31mNameError\u001b[0m                                 Traceback (most recent call last)",
      "\u001b[1;32mc:\\Users\\prath\\JupyterNotebook\\Linear Regression\\Linear Regression.ipynb Cell 3\u001b[0m in \u001b[0;36m1\n\u001b[1;32m----> <a href='vscode-notebook-cell:/c%3A/Users/prath/JupyterNotebook/Linear%20Regression/Linear%20Regression.ipynb#W2sZmlsZQ%3D%3D?line=0'>1</a>\u001b[0m df \u001b[39m=\u001b[39m pd\u001b[39m.\u001b[39mread_csv(\u001b[39m\"\u001b[39m\u001b[39mDummy Data HSS.csv\u001b[39m\u001b[39m\"\u001b[39m)\n\u001b[0;32m      <a href='vscode-notebook-cell:/c%3A/Users/prath/JupyterNotebook/Linear%20Regression/Linear%20Regression.ipynb#W2sZmlsZQ%3D%3D?line=1'>2</a>\u001b[0m df\u001b[39m.\u001b[39mhead()\n",
      "\u001b[1;31mNameError\u001b[0m: name 'pd' is not defined"
     ]
    }
   ],
   "source": [
    "df = pd.read_csv(\"Dummy Data HSS.csv\")\n",
    "df.head()"
   ]
  },
  {
   "cell_type": "code",
   "execution_count": 3,
   "id": "39aea0fd",
   "metadata": {},
   "outputs": [
    {
     "data": {
      "text/plain": [
       "(4572, 5)"
      ]
     },
     "execution_count": 3,
     "metadata": {},
     "output_type": "execute_result"
    }
   ],
   "source": [
    "df.shape"
   ]
  },
  {
   "cell_type": "code",
   "execution_count": 4,
   "id": "75ed5c20",
   "metadata": {},
   "outputs": [
    {
     "data": {
      "text/plain": [
       "(401, 5)"
      ]
     },
     "execution_count": 4,
     "metadata": {},
     "output_type": "execute_result"
    }
   ],
   "source": [
    "df = df.iloc[:401]\n",
    "df.shape"
   ]
  },
  {
   "cell_type": "code",
   "execution_count": 5,
   "id": "6eef7158",
   "metadata": {},
   "outputs": [],
   "source": [
    "df.rename(columns = {'Social Media':'Social_Media'}, inplace = True)"
   ]
  },
  {
   "cell_type": "code",
   "execution_count": 6,
   "id": "e0bfff36",
   "metadata": {},
   "outputs": [
    {
     "data": {
      "text/html": [
       "<div>\n",
       "<style scoped>\n",
       "    .dataframe tbody tr th:only-of-type {\n",
       "        vertical-align: middle;\n",
       "    }\n",
       "\n",
       "    .dataframe tbody tr th {\n",
       "        vertical-align: top;\n",
       "    }\n",
       "\n",
       "    .dataframe thead th {\n",
       "        text-align: right;\n",
       "    }\n",
       "</style>\n",
       "<table border=\"1\" class=\"dataframe\">\n",
       "  <thead>\n",
       "    <tr style=\"text-align: right;\">\n",
       "      <th></th>\n",
       "      <th>Radio</th>\n",
       "      <th>Social_Media</th>\n",
       "      <th>Sales</th>\n",
       "    </tr>\n",
       "  </thead>\n",
       "  <tbody>\n",
       "    <tr>\n",
       "      <th>0</th>\n",
       "      <td>6.57</td>\n",
       "      <td>2.91</td>\n",
       "      <td>54.73</td>\n",
       "    </tr>\n",
       "    <tr>\n",
       "      <th>1</th>\n",
       "      <td>9.24</td>\n",
       "      <td>2.41</td>\n",
       "      <td>46.68</td>\n",
       "    </tr>\n",
       "    <tr>\n",
       "      <th>2</th>\n",
       "      <td>15.89</td>\n",
       "      <td>2.91</td>\n",
       "      <td>150.18</td>\n",
       "    </tr>\n",
       "    <tr>\n",
       "      <th>3</th>\n",
       "      <td>30.02</td>\n",
       "      <td>6.92</td>\n",
       "      <td>298.25</td>\n",
       "    </tr>\n",
       "    <tr>\n",
       "      <th>4</th>\n",
       "      <td>8.44</td>\n",
       "      <td>1.41</td>\n",
       "      <td>56.59</td>\n",
       "    </tr>\n",
       "    <tr>\n",
       "      <th>...</th>\n",
       "      <td>...</td>\n",
       "      <td>...</td>\n",
       "      <td>...</td>\n",
       "    </tr>\n",
       "    <tr>\n",
       "      <th>396</th>\n",
       "      <td>14.77</td>\n",
       "      <td>4.97</td>\n",
       "      <td>159.81</td>\n",
       "    </tr>\n",
       "    <tr>\n",
       "      <th>397</th>\n",
       "      <td>29.28</td>\n",
       "      <td>4.18</td>\n",
       "      <td>300.75</td>\n",
       "    </tr>\n",
       "    <tr>\n",
       "      <th>398</th>\n",
       "      <td>8.47</td>\n",
       "      <td>4.08</td>\n",
       "      <td>41.87</td>\n",
       "    </tr>\n",
       "    <tr>\n",
       "      <th>399</th>\n",
       "      <td>23.16</td>\n",
       "      <td>2.05</td>\n",
       "      <td>238.37</td>\n",
       "    </tr>\n",
       "    <tr>\n",
       "      <th>400</th>\n",
       "      <td>21.68</td>\n",
       "      <td>4.36</td>\n",
       "      <td>253.46</td>\n",
       "    </tr>\n",
       "  </tbody>\n",
       "</table>\n",
       "<p>401 rows × 3 columns</p>\n",
       "</div>"
      ],
      "text/plain": [
       "     Radio  Social_Media   Sales\n",
       "0     6.57          2.91   54.73\n",
       "1     9.24          2.41   46.68\n",
       "2    15.89          2.91  150.18\n",
       "3    30.02          6.92  298.25\n",
       "4     8.44          1.41   56.59\n",
       "..     ...           ...     ...\n",
       "396  14.77          4.97  159.81\n",
       "397  29.28          4.18  300.75\n",
       "398   8.47          4.08   41.87\n",
       "399  23.16          2.05  238.37\n",
       "400  21.68          4.36  253.46\n",
       "\n",
       "[401 rows x 3 columns]"
      ]
     },
     "execution_count": 6,
     "metadata": {},
     "output_type": "execute_result"
    }
   ],
   "source": [
    "df['Radio'] = np.round(df['Radio'], decimals = 2)\n",
    "df['Social_Media'] = np.round(df['Social_Media'], decimals = 2)\n",
    "df['Sales'] = np.round(df['Sales'], decimals = 2)\n",
    "df[['Radio', 'Social_Media', 'Sales']]"
   ]
  },
  {
   "cell_type": "code",
   "execution_count": 7,
   "id": "d7493955",
   "metadata": {},
   "outputs": [
    {
     "data": {
      "text/plain": [
       "(401, 5)"
      ]
     },
     "execution_count": 7,
     "metadata": {},
     "output_type": "execute_result"
    }
   ],
   "source": [
    "import math\n",
    "df.drop(df[df['TV'] >= math.nan].index, inplace = True)\n",
    "df.drop(df[df['Radio'] >= math.nan].index, inplace = True)\n",
    "df.drop(df[df['Social_Media'] >= math.nan].index, inplace = True)\n",
    "df.drop(df[df['Sales'] >= math.nan].index, inplace = True)\n",
    "df.shape"
   ]
  },
  {
   "cell_type": "code",
   "execution_count": 8,
   "id": "540f82d8",
   "metadata": {},
   "outputs": [
    {
     "data": {
      "text/html": [
       "<div>\n",
       "<style scoped>\n",
       "    .dataframe tbody tr th:only-of-type {\n",
       "        vertical-align: middle;\n",
       "    }\n",
       "\n",
       "    .dataframe tbody tr th {\n",
       "        vertical-align: top;\n",
       "    }\n",
       "\n",
       "    .dataframe thead th {\n",
       "        text-align: right;\n",
       "    }\n",
       "</style>\n",
       "<table border=\"1\" class=\"dataframe\">\n",
       "  <thead>\n",
       "    <tr style=\"text-align: right;\">\n",
       "      <th></th>\n",
       "      <th>TV</th>\n",
       "      <th>Radio</th>\n",
       "      <th>Social_Media</th>\n",
       "      <th>Influencer</th>\n",
       "      <th>Sales</th>\n",
       "    </tr>\n",
       "  </thead>\n",
       "  <tbody>\n",
       "    <tr>\n",
       "      <th>0</th>\n",
       "      <td>16</td>\n",
       "      <td>6.57</td>\n",
       "      <td>2.91</td>\n",
       "      <td>Mega</td>\n",
       "      <td>54.73</td>\n",
       "    </tr>\n",
       "    <tr>\n",
       "      <th>1</th>\n",
       "      <td>13</td>\n",
       "      <td>9.24</td>\n",
       "      <td>2.41</td>\n",
       "      <td>Mega</td>\n",
       "      <td>46.68</td>\n",
       "    </tr>\n",
       "    <tr>\n",
       "      <th>2</th>\n",
       "      <td>41</td>\n",
       "      <td>15.89</td>\n",
       "      <td>2.91</td>\n",
       "      <td>Mega</td>\n",
       "      <td>150.18</td>\n",
       "    </tr>\n",
       "    <tr>\n",
       "      <th>3</th>\n",
       "      <td>83</td>\n",
       "      <td>30.02</td>\n",
       "      <td>6.92</td>\n",
       "      <td>Mega</td>\n",
       "      <td>298.25</td>\n",
       "    </tr>\n",
       "    <tr>\n",
       "      <th>4</th>\n",
       "      <td>15</td>\n",
       "      <td>8.44</td>\n",
       "      <td>1.41</td>\n",
       "      <td>Micro</td>\n",
       "      <td>56.59</td>\n",
       "    </tr>\n",
       "  </tbody>\n",
       "</table>\n",
       "</div>"
      ],
      "text/plain": [
       "   TV  Radio  Social_Media Influencer   Sales\n",
       "0  16   6.57          2.91       Mega   54.73\n",
       "1  13   9.24          2.41       Mega   46.68\n",
       "2  41  15.89          2.91       Mega  150.18\n",
       "3  83  30.02          6.92       Mega  298.25\n",
       "4  15   8.44          1.41      Micro   56.59"
      ]
     },
     "execution_count": 8,
     "metadata": {},
     "output_type": "execute_result"
    }
   ],
   "source": [
    "df.head()"
   ]
  },
  {
   "cell_type": "code",
   "execution_count": 9,
   "id": "24caff77",
   "metadata": {},
   "outputs": [
    {
     "data": {
      "text/plain": [
       "<AxesSubplot:xlabel='Social_Media', ylabel='Sales'>"
      ]
     },
     "execution_count": 9,
     "metadata": {},
     "output_type": "execute_result"
    },
    {
     "data": {
      "image/png": "[encoded data removed]",
      "text/plain": [
       "<Figure size 1152x576 with 3 Axes>"
      ]
     },
     "metadata": {
      "needs_background": "light"
     },
     "output_type": "display_data"
    }
   ],
   "source": [
    "fig,axs = plt.subplots(1,3,sharey=True)\n",
    "df.plot(kind = 'scatter', x = 'TV', y = 'Sales', ax = axs[0], figsize = (16,8))\n",
    "df.plot(kind = 'scatter', x = 'Radio', y = 'Sales', ax = axs[1])\n",
    "df.plot(kind = 'scatter', x = 'Social_Media', y = 'Sales', ax = axs[2])"
   ]
  },
  {
   "cell_type": "code",
   "execution_count": 10,
   "id": "02d9d8d4",
   "metadata": {},
   "outputs": [],
   "source": [
    "# For a single Linear Regression Model y = b0 + b1*x\n",
    "feature_cols = ['Radio']\n",
    "x = df[feature_cols]\n",
    "y = df.Sales"
   ]
  },
  {
   "cell_type": "code",
   "execution_count": 11,
   "id": "a57df48c",
   "metadata": {},
   "outputs": [
    {
     "name": "stdout",
     "output_type": "stream",
     "text": [
      "51.39594387813656\n",
      "[7.7981333]\n"
     ]
    }
   ],
   "source": [
    "LM = LinearRegression()\n",
    "LM.fit(x, y)\n",
    "print(LM.intercept_) # -> Gives tbe intercept value b0\n",
    "print(LM.coef_) # -> Gives the coefficient value b1"
   ]
  },
  {
   "cell_type": "code",
   "execution_count": 12,
   "id": "1fa11935",
   "metadata": {},
   "outputs": [
    {
     "data": {
      "text/plain": [
       "441.30260887813654"
      ]
     },
     "execution_count": 12,
     "metadata": {},
     "output_type": "execute_result"
    }
   ],
   "source": [
    "51.39594387813656+7.7981333*50"
   ]
  },
  {
   "cell_type": "code",
   "execution_count": 13,
   "id": "2ef535ed",
   "metadata": {},
   "outputs": [
    {
     "data": {
      "text/html": [
       "<div>\n",
       "<style scoped>\n",
       "    .dataframe tbody tr th:only-of-type {\n",
       "        vertical-align: middle;\n",
       "    }\n",
       "\n",
       "    .dataframe tbody tr th {\n",
       "        vertical-align: top;\n",
       "    }\n",
       "\n",
       "    .dataframe thead th {\n",
       "        text-align: right;\n",
       "    }\n",
       "</style>\n",
       "<table border=\"1\" class=\"dataframe\">\n",
       "  <thead>\n",
       "    <tr style=\"text-align: right;\">\n",
       "      <th></th>\n",
       "      <th>Radio</th>\n",
       "    </tr>\n",
       "  </thead>\n",
       "  <tbody>\n",
       "    <tr>\n",
       "      <th>0</th>\n",
       "      <td>50</td>\n",
       "    </tr>\n",
       "  </tbody>\n",
       "</table>\n",
       "</div>"
      ],
      "text/plain": [
       "   Radio\n",
       "0     50"
      ]
     },
     "execution_count": 13,
     "metadata": {},
     "output_type": "execute_result"
    }
   ],
   "source": [
    "# Predicting for a new value in TV\n",
    "X_new = pd.DataFrame({'Radio':[50]})\n",
    "X_new.head()"
   ]
  },
  {
   "cell_type": "code",
   "execution_count": 14,
   "id": "f928133d",
   "metadata": {},
   "outputs": [
    {
     "data": {
      "text/plain": [
       "array([441.30260864])"
      ]
     },
     "execution_count": 14,
     "metadata": {},
     "output_type": "execute_result"
    }
   ],
   "source": [
    "LM.predict(X_new)"
   ]
  },
  {
   "cell_type": "code",
   "execution_count": 17,
   "id": "d82b3d24",
   "metadata": {},
   "outputs": [
    {
     "data": {
      "text/html": [
       "<div>\n",
       "<style scoped>\n",
       "    .dataframe tbody tr th:only-of-type {\n",
       "        vertical-align: middle;\n",
       "    }\n",
       "\n",
       "    .dataframe tbody tr th {\n",
       "        vertical-align: top;\n",
       "    }\n",
       "\n",
       "    .dataframe thead th {\n",
       "        text-align: right;\n",
       "    }\n",
       "</style>\n",
       "<table border=\"1\" class=\"dataframe\">\n",
       "  <thead>\n",
       "    <tr style=\"text-align: right;\">\n",
       "      <th></th>\n",
       "      <th>Radio</th>\n",
       "    </tr>\n",
       "  </thead>\n",
       "  <tbody>\n",
       "    <tr>\n",
       "      <th>0</th>\n",
       "      <td>0.23</td>\n",
       "    </tr>\n",
       "    <tr>\n",
       "      <th>1</th>\n",
       "      <td>47.12</td>\n",
       "    </tr>\n",
       "  </tbody>\n",
       "</table>\n",
       "</div>"
      ],
      "text/plain": [
       "   Radio\n",
       "0   0.23\n",
       "1  47.12"
      ]
     },
     "execution_count": 17,
     "metadata": {},
     "output_type": "execute_result"
    }
   ],
   "source": [
    "X_new = pd.DataFrame({'Radio':[df.Radio.min(), df.Radio.max()]})\n",
    "X_new.head()"
   ]
  },
  {
   "cell_type": "code",
   "execution_count": 18,
   "id": "c34e09b6",
   "metadata": {},
   "outputs": [
    {
     "data": {
      "text/plain": [
       "array([ 53.18951454, 418.84398475])"
      ]
     },
     "execution_count": 18,
     "metadata": {},
     "output_type": "execute_result"
    }
   ],
   "source": [
    "prediction = LM.predict(X_new)\n",
    "prediction"
   ]
  },
  {
   "cell_type": "code",
   "execution_count": 19,
   "id": "ddf508bd",
   "metadata": {},
   "outputs": [
    {
     "data": {
      "text/plain": [
       "<seaborn.axisgrid.FacetGrid at 0x1f8e1678e20>"
      ]
     },
     "execution_count": 19,
     "metadata": {},
     "output_type": "execute_result"
    },
    {
     "data": {
      "image/png": "[encoded data removed]",
      "text/plain": [
       "<Figure size 360x360 with 1 Axes>"
      ]
     },
     "metadata": {
      "needs_background": "light"
     },
     "output_type": "display_data"
    }
   ],
   "source": [
    "import seaborn as sns\n",
    "sns.lmplot(x='Radio', y='Sales', data=df, line_kws={'color' : 'red'}, fit_reg=True) "
   ]
  },
  {
   "cell_type": "markdown",
   "id": "2bc0c3e9",
   "metadata": {},
   "source": [
    "# HYPOTHESIS TESTING"
   ]
  },
  {
   "cell_type": "code",
   "execution_count": 20,
   "id": "af9cbfef",
   "metadata": {},
   "outputs": [],
   "source": [
    "# Hypothesis Testing\n",
    "# Null Hypothesis\n",
    "import statsmodels.formula.api as smf\n",
    "lm = smf.ols(formula='Sales ~ Radio', data=df).fit()"
   ]
  },
  {
   "cell_type": "code",
   "execution_count": 21,
   "id": "d39ab363",
   "metadata": {},
   "outputs": [
    {
     "data": {
      "text/html": [
       "<div>\n",
       "<style scoped>\n",
       "    .dataframe tbody tr th:only-of-type {\n",
       "        vertical-align: middle;\n",
       "    }\n",
       "\n",
       "    .dataframe tbody tr th {\n",
       "        vertical-align: top;\n",
       "    }\n",
       "\n",
       "    .dataframe thead th {\n",
       "        text-align: right;\n",
       "    }\n",
       "</style>\n",
       "<table border=\"1\" class=\"dataframe\">\n",
       "  <thead>\n",
       "    <tr style=\"text-align: right;\">\n",
       "      <th></th>\n",
       "      <th>0</th>\n",
       "      <th>1</th>\n",
       "    </tr>\n",
       "  </thead>\n",
       "  <tbody>\n",
       "    <tr>\n",
       "      <th>Intercept</th>\n",
       "      <td>41.324002</td>\n",
       "      <td>61.467885</td>\n",
       "    </tr>\n",
       "    <tr>\n",
       "      <th>Radio</th>\n",
       "      <td>7.318835</td>\n",
       "      <td>8.277432</td>\n",
       "    </tr>\n",
       "  </tbody>\n",
       "</table>\n",
       "</div>"
      ],
      "text/plain": [
       "                   0          1\n",
       "Intercept  41.324002  61.467885\n",
       "Radio       7.318835   8.277432"
      ]
     },
     "execution_count": 21,
     "metadata": {},
     "output_type": "execute_result"
    }
   ],
   "source": [
    "lm.conf_int() # gives the possibility of values for coefficient b1"
   ]
  },
  {
   "cell_type": "markdown",
   "id": "fa4ebb23",
   "metadata": {},
   "source": [
    "* There is no significant relationship between y and x {Failed to reject null hypothesis} (There is difference between y and x)\n",
    "* There is a relationship between y and x {Accepted the null hypothesis} (there is no difference between y and x)"
   ]
  },
  {
   "cell_type": "code",
   "execution_count": 22,
   "id": "7b381a43",
   "metadata": {},
   "outputs": [
    {
     "data": {
      "text/plain": [
       "Intercept     2.864786e-21\n",
       "Radio        3.621465e-112\n",
       "dtype: float64"
      ]
     },
     "execution_count": 22,
     "metadata": {},
     "output_type": "execute_result"
    }
   ],
   "source": [
    "lm.pvalues"
   ]
  },
  {
   "cell_type": "markdown",
   "id": "4e876619",
   "metadata": {},
   "source": [
    "* Alpha / significance is the value set for conducting hypothesis. It is known as the probablity of rejecting the null hypothesis when it is in fact true (or) the probablity of making a wrong decision. Normally this value is set to 0.05 meaning that we reject the null hypothesis 5% of the time we repeat the same experimnet but depending on the risk it can be decreased or increased.\n",
    "* P value is the probablity of getting result from a sample data when the null hypothesis is true. This is a calculated value. If this value is greater than the fixed alpha value then it means that we've rejected the null hypothesis in favour of alternate hypothesis. If it is lesser than the alpha value then, it means that we've accepted the null hypothesis.\n",
    "* Confidence Interval is the range within which the result value is available. When the null hypothesis is true then it means that the hypothesized mean / average value is available in the confidence interval. \"95% Confidence Interval\" means that we are 95% confindent that the value is in the interval range."
   ]
  },
  {
   "cell_type": "code",
   "execution_count": 23,
   "id": "180009d3",
   "metadata": {},
   "outputs": [
    {
     "data": {
      "text/plain": [
       "0.7194222596470359"
      ]
     },
     "execution_count": 23,
     "metadata": {},
     "output_type": "execute_result"
    }
   ],
   "source": [
    "lm.rsquared # rsquared is used to evaluate the fit of the linear model\n",
    "# The threshold of a good rsquared value widely depends on the domain"
   ]
  },
  {
   "cell_type": "code",
   "execution_count": 24,
   "id": "34b2eb73",
   "metadata": {},
   "outputs": [],
   "source": [
    "# Muttiple Linear Regression Model y = b0 + b1x1 + b2x2 + ... + e {e -> model error(variation in our model))}\n",
    "feature_cols = ['TV', 'Radio', 'Social_Media']\n",
    "X = df[feature_cols]\n",
    "Y = df.Sales\n",
    "xtrain, xtest, ytrain, ytest = model_selection.train_test_split(X, Y, test_size = 0.3, random_state = 42)"
   ]
  },
  {
   "cell_type": "code",
   "execution_count": 25,
   "id": "cad7f2c7",
   "metadata": {},
   "outputs": [
    {
     "name": "stdout",
     "output_type": "stream",
     "text": [
      "8.510432479467141\n",
      "[3.18590949 0.72820556 0.27711869]\n"
     ]
    }
   ],
   "source": [
    "LM = LinearRegression()\n",
    "LM.fit(xtrain, ytrain)\n",
    "print(LM.intercept_) # -> Gives the intercept value b0\n",
    "print(LM.coef_) # -> gives the coeffecient value b1"
   ]
  },
  {
   "cell_type": "code",
   "execution_count": 26,
   "id": "c78338e6",
   "metadata": {},
   "outputs": [
    {
     "name": "stdout",
     "output_type": "stream",
     "text": [
      "17.07427998451938\n"
     ]
    }
   ],
   "source": [
    "prediction = LM.predict(xtest)\n",
    "print(sqrt(mean_squared_error(ytest, prediction)))"
   ]
  },
  {
   "cell_type": "code",
   "execution_count": 27,
   "id": "a9a02015",
   "metadata": {},
   "outputs": [
    {
     "data": {
      "text/html": [
       "<table class=\"simpletable\">\n",
       "<caption>OLS Regression Results</caption>\n",
       "<tr>\n",
       "  <th>Dep. Variable:</th>          <td>Sales</td>      <th>  R-squared:         </th> <td>   0.929</td> \n",
       "</tr>\n",
       "<tr>\n",
       "  <th>Model:</th>                   <td>OLS</td>       <th>  Adj. R-squared:    </th> <td>   0.929</td> \n",
       "</tr>\n",
       "<tr>\n",
       "  <th>Method:</th>             <td>Least Squares</td>  <th>  F-statistic:       </th> <td>   1741.</td> \n",
       "</tr>\n",
       "<tr>\n",
       "  <th>Date:</th>             <td>Sat, 18 Mar 2023</td> <th>  Prob (F-statistic):</th> <td>5.02e-228</td>\n",
       "</tr>\n",
       "<tr>\n",
       "  <th>Time:</th>                 <td>14:23:45</td>     <th>  Log-Likelihood:    </th> <td> -1865.5</td> \n",
       "</tr>\n",
       "<tr>\n",
       "  <th>No. Observations:</th>      <td>   401</td>      <th>  AIC:               </th> <td>   3739.</td> \n",
       "</tr>\n",
       "<tr>\n",
       "  <th>Df Residuals:</th>          <td>   397</td>      <th>  BIC:               </th> <td>   3755.</td> \n",
       "</tr>\n",
       "<tr>\n",
       "  <th>Df Model:</th>              <td>     3</td>      <th>                     </th>     <td> </td>    \n",
       "</tr>\n",
       "<tr>\n",
       "  <th>Covariance Type:</th>      <td>nonrobust</td>    <th>                     </th>     <td> </td>    \n",
       "</tr>\n",
       "</table>\n",
       "<table class=\"simpletable\">\n",
       "<tr>\n",
       "        <td></td>          <th>coef</th>     <th>std err</th>      <th>t</th>      <th>P>|t|</th>  <th>[0.025</th>    <th>0.975]</th>  \n",
       "</tr>\n",
       "<tr>\n",
       "  <th>Intercept</th>    <td>    5.6577</td> <td>    2.962</td> <td>    1.910</td> <td> 0.057</td> <td>   -0.166</td> <td>   11.481</td>\n",
       "</tr>\n",
       "<tr>\n",
       "  <th>TV</th>           <td>    3.1789</td> <td>    0.093</td> <td>   34.262</td> <td> 0.000</td> <td>    2.997</td> <td>    3.361</td>\n",
       "</tr>\n",
       "<tr>\n",
       "  <th>Radio</th>        <td>    0.8237</td> <td>    0.251</td> <td>    3.286</td> <td> 0.001</td> <td>    0.331</td> <td>    1.317</td>\n",
       "</tr>\n",
       "<tr>\n",
       "  <th>Social_Media</th> <td>    0.3985</td> <td>    0.713</td> <td>    0.559</td> <td> 0.577</td> <td>   -1.004</td> <td>    1.801</td>\n",
       "</tr>\n",
       "</table>\n",
       "<table class=\"simpletable\">\n",
       "<tr>\n",
       "  <th>Omnibus:</th>       <td>354.194</td> <th>  Durbin-Watson:     </th> <td>   2.008</td> \n",
       "</tr>\n",
       "<tr>\n",
       "  <th>Prob(Omnibus):</th> <td> 0.000</td>  <th>  Jarque-Bera (JB):  </th> <td>46984.841</td>\n",
       "</tr>\n",
       "<tr>\n",
       "  <th>Skew:</th>          <td> 3.028</td>  <th>  Prob(JB):          </th> <td>    0.00</td> \n",
       "</tr>\n",
       "<tr>\n",
       "  <th>Kurtosis:</th>      <td>55.682</td>  <th>  Cond. No.          </th> <td>    148.</td> \n",
       "</tr>\n",
       "</table><br/><br/>Notes:<br/>[1] Standard Errors assume that the covariance matrix of the errors is correctly specified."
      ],
      "text/plain": [
       "<class 'statsmodels.iolib.summary.Summary'>\n",
       "\"\"\"\n",
       "                            OLS Regression Results                            \n",
       "==============================================================================\n",
       "Dep. Variable:                  Sales   R-squared:                       0.929\n",
       "Model:                            OLS   Adj. R-squared:                  0.929\n",
       "Method:                 Least Squares   F-statistic:                     1741.\n",
       "Date:                Sat, 18 Mar 2023   Prob (F-statistic):          5.02e-228\n",
       "Time:                        14:23:45   Log-Likelihood:                -1865.5\n",
       "No. Observations:                 401   AIC:                             3739.\n",
       "Df Residuals:                     397   BIC:                             3755.\n",
       "Df Model:                           3                                         \n",
       "Covariance Type:            nonrobust                                         \n",
       "================================================================================\n",
       "                   coef    std err          t      P>|t|      [0.025      0.975]\n",
       "--------------------------------------------------------------------------------\n",
       "Intercept        5.6577      2.962      1.910      0.057      -0.166      11.481\n",
       "TV               3.1789      0.093     34.262      0.000       2.997       3.361\n",
       "Radio            0.8237      0.251      3.286      0.001       0.331       1.317\n",
       "Social_Media     0.3985      0.713      0.559      0.577      -1.004       1.801\n",
       "==============================================================================\n",
       "Omnibus:                      354.194   Durbin-Watson:                   2.008\n",
       "Prob(Omnibus):                  0.000   Jarque-Bera (JB):            46984.841\n",
       "Skew:                           3.028   Prob(JB):                         0.00\n",
       "Kurtosis:                      55.682   Cond. No.                         148.\n",
       "==============================================================================\n",
       "\n",
       "Notes:\n",
       "[1] Standard Errors assume that the covariance matrix of the errors is correctly specified.\n",
       "\"\"\""
      ]
     },
     "execution_count": 27,
     "metadata": {},
     "output_type": "execute_result"
    }
   ],
   "source": [
    "LM = smf.ols(formula = 'Sales ~ TV + Radio + Social_Media', data = df).fit()\n",
    "LM.conf_int()\n",
    "LM.summary()"
   ]
  },
  {
   "cell_type": "code",
   "execution_count": 28,
   "id": "30fafc75",
   "metadata": {},
   "outputs": [
    {
     "data": {
      "text/plain": [
       "0.9293227640637302"
      ]
     },
     "execution_count": 28,
     "metadata": {},
     "output_type": "execute_result"
    }
   ],
   "source": [
    "LM = smf.ols(formula = 'Sales ~ TV + Radio', data = df).fit()\n",
    "LM.rsquared # rsquared value always increases as the no. of predictors (or) features increase\n",
    "# selecting the model with higher rsquared value is not the reliable approach for choosing the best linear model"
   ]
  },
  {
   "cell_type": "markdown",
   "id": "94569d6b",
   "metadata": {},
   "source": [
    "# CATEGORICAL PREDICTORS"
   ]
  },
  {
   "cell_type": "code",
   "execution_count": 29,
   "id": "9f11cc81",
   "metadata": {},
   "outputs": [],
   "source": [
    "df.rename(columns = {'Social Media':'Social_Media'}, inplace = True)"
   ]
  },
  {
   "cell_type": "code",
   "execution_count": 30,
   "id": "fda4eaa9",
   "metadata": {},
   "outputs": [
    {
     "data": {
      "text/html": [
       "<div>\n",
       "<style scoped>\n",
       "    .dataframe tbody tr th:only-of-type {\n",
       "        vertical-align: middle;\n",
       "    }\n",
       "\n",
       "    .dataframe tbody tr th {\n",
       "        vertical-align: top;\n",
       "    }\n",
       "\n",
       "    .dataframe thead th {\n",
       "        text-align: right;\n",
       "    }\n",
       "</style>\n",
       "<table border=\"1\" class=\"dataframe\">\n",
       "  <thead>\n",
       "    <tr style=\"text-align: right;\">\n",
       "      <th></th>\n",
       "      <th>TV</th>\n",
       "      <th>Radio</th>\n",
       "      <th>Social_Media</th>\n",
       "      <th>Influencer</th>\n",
       "      <th>Sales</th>\n",
       "    </tr>\n",
       "  </thead>\n",
       "  <tbody>\n",
       "    <tr>\n",
       "      <th>0</th>\n",
       "      <td>16</td>\n",
       "      <td>6.57</td>\n",
       "      <td>2.91</td>\n",
       "      <td>Mega</td>\n",
       "      <td>54.73</td>\n",
       "    </tr>\n",
       "    <tr>\n",
       "      <th>1</th>\n",
       "      <td>13</td>\n",
       "      <td>9.24</td>\n",
       "      <td>2.41</td>\n",
       "      <td>Mega</td>\n",
       "      <td>46.68</td>\n",
       "    </tr>\n",
       "    <tr>\n",
       "      <th>2</th>\n",
       "      <td>41</td>\n",
       "      <td>15.89</td>\n",
       "      <td>2.91</td>\n",
       "      <td>Mega</td>\n",
       "      <td>150.18</td>\n",
       "    </tr>\n",
       "    <tr>\n",
       "      <th>3</th>\n",
       "      <td>83</td>\n",
       "      <td>30.02</td>\n",
       "      <td>6.92</td>\n",
       "      <td>Mega</td>\n",
       "      <td>298.25</td>\n",
       "    </tr>\n",
       "    <tr>\n",
       "      <th>4</th>\n",
       "      <td>15</td>\n",
       "      <td>8.44</td>\n",
       "      <td>1.41</td>\n",
       "      <td>Micro</td>\n",
       "      <td>56.59</td>\n",
       "    </tr>\n",
       "  </tbody>\n",
       "</table>\n",
       "</div>"
      ],
      "text/plain": [
       "   TV  Radio  Social_Media Influencer   Sales\n",
       "0  16   6.57          2.91       Mega   54.73\n",
       "1  13   9.24          2.41       Mega   46.68\n",
       "2  41  15.89          2.91       Mega  150.18\n",
       "3  83  30.02          6.92       Mega  298.25\n",
       "4  15   8.44          1.41      Micro   56.59"
      ]
     },
     "execution_count": 30,
     "metadata": {},
     "output_type": "execute_result"
    }
   ],
   "source": [
    "df.head()"
   ]
  },
  {
   "cell_type": "code",
   "execution_count": 31,
   "id": "2483445a",
   "metadata": {},
   "outputs": [
    {
     "data": {
      "text/html": [
       "<div>\n",
       "<style scoped>\n",
       "    .dataframe tbody tr th:only-of-type {\n",
       "        vertical-align: middle;\n",
       "    }\n",
       "\n",
       "    .dataframe tbody tr th {\n",
       "        vertical-align: top;\n",
       "    }\n",
       "\n",
       "    .dataframe thead th {\n",
       "        text-align: right;\n",
       "    }\n",
       "</style>\n",
       "<table border=\"1\" class=\"dataframe\">\n",
       "  <thead>\n",
       "    <tr style=\"text-align: right;\">\n",
       "      <th></th>\n",
       "      <th>TV</th>\n",
       "      <th>Radio</th>\n",
       "      <th>Social_Media</th>\n",
       "      <th>Influencer</th>\n",
       "      <th>Sales</th>\n",
       "      <th>Size</th>\n",
       "    </tr>\n",
       "  </thead>\n",
       "  <tbody>\n",
       "    <tr>\n",
       "      <th>0</th>\n",
       "      <td>16</td>\n",
       "      <td>6.57</td>\n",
       "      <td>2.91</td>\n",
       "      <td>Mega</td>\n",
       "      <td>54.73</td>\n",
       "      <td>Small</td>\n",
       "    </tr>\n",
       "    <tr>\n",
       "      <th>1</th>\n",
       "      <td>13</td>\n",
       "      <td>9.24</td>\n",
       "      <td>2.41</td>\n",
       "      <td>Mega</td>\n",
       "      <td>46.68</td>\n",
       "      <td>Small</td>\n",
       "    </tr>\n",
       "    <tr>\n",
       "      <th>2</th>\n",
       "      <td>41</td>\n",
       "      <td>15.89</td>\n",
       "      <td>2.91</td>\n",
       "      <td>Mega</td>\n",
       "      <td>150.18</td>\n",
       "      <td>Large</td>\n",
       "    </tr>\n",
       "    <tr>\n",
       "      <th>3</th>\n",
       "      <td>83</td>\n",
       "      <td>30.02</td>\n",
       "      <td>6.92</td>\n",
       "      <td>Mega</td>\n",
       "      <td>298.25</td>\n",
       "      <td>Small</td>\n",
       "    </tr>\n",
       "    <tr>\n",
       "      <th>4</th>\n",
       "      <td>15</td>\n",
       "      <td>8.44</td>\n",
       "      <td>1.41</td>\n",
       "      <td>Micro</td>\n",
       "      <td>56.59</td>\n",
       "      <td>Large</td>\n",
       "    </tr>\n",
       "  </tbody>\n",
       "</table>\n",
       "</div>"
      ],
      "text/plain": [
       "   TV  Radio  Social_Media Influencer   Sales   Size\n",
       "0  16   6.57          2.91       Mega   54.73  Small\n",
       "1  13   9.24          2.41       Mega   46.68  Small\n",
       "2  41  15.89          2.91       Mega  150.18  Large\n",
       "3  83  30.02          6.92       Mega  298.25  Small\n",
       "4  15   8.44          1.41      Micro   56.59  Large"
      ]
     },
     "execution_count": 31,
     "metadata": {},
     "output_type": "execute_result"
    }
   ],
   "source": [
    "# Adding columns with categorical value\n",
    "np.random.seed(11112)\n",
    "nums = np.random.rand(len(df))\n",
    "mask_large = nums > 0.5\n",
    "df['Size'] = 'Small'\n",
    "df.loc[mask_large, 'Size'] = 'Large'\n",
    "df.head()"
   ]
  },
  {
   "cell_type": "code",
   "execution_count": 32,
   "id": "0c0b3570",
   "metadata": {},
   "outputs": [
    {
     "data": {
      "text/html": [
       "<div>\n",
       "<style scoped>\n",
       "    .dataframe tbody tr th:only-of-type {\n",
       "        vertical-align: middle;\n",
       "    }\n",
       "\n",
       "    .dataframe tbody tr th {\n",
       "        vertical-align: top;\n",
       "    }\n",
       "\n",
       "    .dataframe thead th {\n",
       "        text-align: right;\n",
       "    }\n",
       "</style>\n",
       "<table border=\"1\" class=\"dataframe\">\n",
       "  <thead>\n",
       "    <tr style=\"text-align: right;\">\n",
       "      <th></th>\n",
       "      <th>TV</th>\n",
       "      <th>Radio</th>\n",
       "      <th>Social_Media</th>\n",
       "      <th>Influencer</th>\n",
       "      <th>Sales</th>\n",
       "      <th>Size</th>\n",
       "      <th>isLarge</th>\n",
       "    </tr>\n",
       "  </thead>\n",
       "  <tbody>\n",
       "    <tr>\n",
       "      <th>0</th>\n",
       "      <td>16</td>\n",
       "      <td>6.57</td>\n",
       "      <td>2.91</td>\n",
       "      <td>Mega</td>\n",
       "      <td>54.73</td>\n",
       "      <td>Small</td>\n",
       "      <td>0</td>\n",
       "    </tr>\n",
       "    <tr>\n",
       "      <th>1</th>\n",
       "      <td>13</td>\n",
       "      <td>9.24</td>\n",
       "      <td>2.41</td>\n",
       "      <td>Mega</td>\n",
       "      <td>46.68</td>\n",
       "      <td>Small</td>\n",
       "      <td>0</td>\n",
       "    </tr>\n",
       "    <tr>\n",
       "      <th>2</th>\n",
       "      <td>41</td>\n",
       "      <td>15.89</td>\n",
       "      <td>2.91</td>\n",
       "      <td>Mega</td>\n",
       "      <td>150.18</td>\n",
       "      <td>Large</td>\n",
       "      <td>1</td>\n",
       "    </tr>\n",
       "    <tr>\n",
       "      <th>3</th>\n",
       "      <td>83</td>\n",
       "      <td>30.02</td>\n",
       "      <td>6.92</td>\n",
       "      <td>Mega</td>\n",
       "      <td>298.25</td>\n",
       "      <td>Small</td>\n",
       "      <td>0</td>\n",
       "    </tr>\n",
       "    <tr>\n",
       "      <th>4</th>\n",
       "      <td>15</td>\n",
       "      <td>8.44</td>\n",
       "      <td>1.41</td>\n",
       "      <td>Micro</td>\n",
       "      <td>56.59</td>\n",
       "      <td>Large</td>\n",
       "      <td>1</td>\n",
       "    </tr>\n",
       "  </tbody>\n",
       "</table>\n",
       "</div>"
      ],
      "text/plain": [
       "   TV  Radio  Social_Media Influencer   Sales   Size  isLarge\n",
       "0  16   6.57          2.91       Mega   54.73  Small        0\n",
       "1  13   9.24          2.41       Mega   46.68  Small        0\n",
       "2  41  15.89          2.91       Mega  150.18  Large        1\n",
       "3  83  30.02          6.92       Mega  298.25  Small        0\n",
       "4  15   8.44          1.41      Micro   56.59  Large        1"
      ]
     },
     "execution_count": 32,
     "metadata": {},
     "output_type": "execute_result"
    }
   ],
   "source": [
    "# Dummy Variable\n",
    "df['isLarge'] = df.Size.map({'Small':0, 'Large':1})\n",
    "df.head()"
   ]
  },
  {
   "cell_type": "code",
   "execution_count": 33,
   "id": "4ae75a9a",
   "metadata": {},
   "outputs": [
    {
     "data": {
      "text/plain": [
       "<zip at 0x1f8e24a26c0>"
      ]
     },
     "execution_count": 33,
     "metadata": {},
     "output_type": "execute_result"
    }
   ],
   "source": [
    "# Multiple Linear Regression\n",
    "feature_cols = ['TV', 'Radio', 'Social_Media', 'isLarge']\n",
    "X = df[feature_cols]\n",
    "Y = df.Sales\n",
    "LM = LinearRegression()\n",
    "LM.fit(X, Y)\n",
    "zip(feature_cols, LM.coef_)"
   ]
  },
  {
   "cell_type": "code",
   "execution_count": 36,
   "id": "9876f02c",
   "metadata": {},
   "outputs": [
    {
     "data": {
      "text/html": [
       "<div>\n",
       "<style scoped>\n",
       "    .dataframe tbody tr th:only-of-type {\n",
       "        vertical-align: middle;\n",
       "    }\n",
       "\n",
       "    .dataframe tbody tr th {\n",
       "        vertical-align: top;\n",
       "    }\n",
       "\n",
       "    .dataframe thead th {\n",
       "        text-align: right;\n",
       "    }\n",
       "</style>\n",
       "<table border=\"1\" class=\"dataframe\">\n",
       "  <thead>\n",
       "    <tr style=\"text-align: right;\">\n",
       "      <th></th>\n",
       "      <th>TV</th>\n",
       "      <th>Radio</th>\n",
       "      <th>Social_Media</th>\n",
       "      <th>Influencer</th>\n",
       "      <th>Sales</th>\n",
       "      <th>Size</th>\n",
       "      <th>isLarge</th>\n",
       "      <th>Area</th>\n",
       "    </tr>\n",
       "  </thead>\n",
       "  <tbody>\n",
       "    <tr>\n",
       "      <th>0</th>\n",
       "      <td>16</td>\n",
       "      <td>6.57</td>\n",
       "      <td>2.91</td>\n",
       "      <td>Mega</td>\n",
       "      <td>54.73</td>\n",
       "      <td>Small</td>\n",
       "      <td>0</td>\n",
       "      <td>Urban</td>\n",
       "    </tr>\n",
       "    <tr>\n",
       "      <th>1</th>\n",
       "      <td>13</td>\n",
       "      <td>9.24</td>\n",
       "      <td>2.41</td>\n",
       "      <td>Mega</td>\n",
       "      <td>46.68</td>\n",
       "      <td>Small</td>\n",
       "      <td>0</td>\n",
       "      <td>Rural</td>\n",
       "    </tr>\n",
       "    <tr>\n",
       "      <th>2</th>\n",
       "      <td>41</td>\n",
       "      <td>15.89</td>\n",
       "      <td>2.91</td>\n",
       "      <td>Mega</td>\n",
       "      <td>150.18</td>\n",
       "      <td>Large</td>\n",
       "      <td>1</td>\n",
       "      <td>Rural</td>\n",
       "    </tr>\n",
       "    <tr>\n",
       "      <th>3</th>\n",
       "      <td>83</td>\n",
       "      <td>30.02</td>\n",
       "      <td>6.92</td>\n",
       "      <td>Mega</td>\n",
       "      <td>298.25</td>\n",
       "      <td>Small</td>\n",
       "      <td>0</td>\n",
       "      <td>Rural</td>\n",
       "    </tr>\n",
       "    <tr>\n",
       "      <th>4</th>\n",
       "      <td>15</td>\n",
       "      <td>8.44</td>\n",
       "      <td>1.41</td>\n",
       "      <td>Micro</td>\n",
       "      <td>56.59</td>\n",
       "      <td>Large</td>\n",
       "      <td>1</td>\n",
       "      <td>Rural</td>\n",
       "    </tr>\n",
       "  </tbody>\n",
       "</table>\n",
       "</div>"
      ],
      "text/plain": [
       "   TV  Radio  Social_Media Influencer   Sales   Size  isLarge   Area\n",
       "0  16   6.57          2.91       Mega   54.73  Small        0  Urban\n",
       "1  13   9.24          2.41       Mega   46.68  Small        0  Rural\n",
       "2  41  15.89          2.91       Mega  150.18  Large        1  Rural\n",
       "3  83  30.02          6.92       Mega  298.25  Small        0  Rural\n",
       "4  15   8.44          1.41      Micro   56.59  Large        1  Rural"
      ]
     },
     "execution_count": 36,
     "metadata": {},
     "output_type": "execute_result"
    }
   ],
   "source": [
    "np.random.seed(11111)\n",
    "nums = np.random.rand(len(df))\n",
    "mask_suburban = (nums > 0.03) & (nums < 0.06)\n",
    "mask_urban = nums > 0.66\n",
    "df['Area'] = 'Rural'\n",
    "df.loc[mask_suburban, 'Area'] = 'Suburban'\n",
    "df.loc[mask_urban, 'Area'] = 'Urban'\n",
    "df.head()"
   ]
  },
  {
   "cell_type": "code",
   "execution_count": 38,
   "id": "73997dbe",
   "metadata": {},
   "outputs": [
    {
     "data": {
      "text/html": [
       "<div>\n",
       "<style scoped>\n",
       "    .dataframe tbody tr th:only-of-type {\n",
       "        vertical-align: middle;\n",
       "    }\n",
       "\n",
       "    .dataframe tbody tr th {\n",
       "        vertical-align: top;\n",
       "    }\n",
       "\n",
       "    .dataframe thead th {\n",
       "        text-align: right;\n",
       "    }\n",
       "</style>\n",
       "<table border=\"1\" class=\"dataframe\">\n",
       "  <thead>\n",
       "    <tr style=\"text-align: right;\">\n",
       "      <th></th>\n",
       "      <th>TV</th>\n",
       "      <th>Radio</th>\n",
       "      <th>Social_Media</th>\n",
       "      <th>Influencer</th>\n",
       "      <th>Sales</th>\n",
       "      <th>Size</th>\n",
       "      <th>isLarge</th>\n",
       "      <th>Area</th>\n",
       "      <th>Area_Suburban</th>\n",
       "      <th>Area_Urban</th>\n",
       "    </tr>\n",
       "  </thead>\n",
       "  <tbody>\n",
       "    <tr>\n",
       "      <th>0</th>\n",
       "      <td>16</td>\n",
       "      <td>6.57</td>\n",
       "      <td>2.91</td>\n",
       "      <td>Mega</td>\n",
       "      <td>54.73</td>\n",
       "      <td>Small</td>\n",
       "      <td>0</td>\n",
       "      <td>Urban</td>\n",
       "      <td>0</td>\n",
       "      <td>1</td>\n",
       "    </tr>\n",
       "    <tr>\n",
       "      <th>1</th>\n",
       "      <td>13</td>\n",
       "      <td>9.24</td>\n",
       "      <td>2.41</td>\n",
       "      <td>Mega</td>\n",
       "      <td>46.68</td>\n",
       "      <td>Small</td>\n",
       "      <td>0</td>\n",
       "      <td>Rural</td>\n",
       "      <td>0</td>\n",
       "      <td>0</td>\n",
       "    </tr>\n",
       "    <tr>\n",
       "      <th>2</th>\n",
       "      <td>41</td>\n",
       "      <td>15.89</td>\n",
       "      <td>2.91</td>\n",
       "      <td>Mega</td>\n",
       "      <td>150.18</td>\n",
       "      <td>Large</td>\n",
       "      <td>1</td>\n",
       "      <td>Rural</td>\n",
       "      <td>0</td>\n",
       "      <td>0</td>\n",
       "    </tr>\n",
       "    <tr>\n",
       "      <th>3</th>\n",
       "      <td>83</td>\n",
       "      <td>30.02</td>\n",
       "      <td>6.92</td>\n",
       "      <td>Mega</td>\n",
       "      <td>298.25</td>\n",
       "      <td>Small</td>\n",
       "      <td>0</td>\n",
       "      <td>Rural</td>\n",
       "      <td>0</td>\n",
       "      <td>0</td>\n",
       "    </tr>\n",
       "    <tr>\n",
       "      <th>4</th>\n",
       "      <td>15</td>\n",
       "      <td>8.44</td>\n",
       "      <td>1.41</td>\n",
       "      <td>Micro</td>\n",
       "      <td>56.59</td>\n",
       "      <td>Large</td>\n",
       "      <td>1</td>\n",
       "      <td>Rural</td>\n",
       "      <td>0</td>\n",
       "      <td>0</td>\n",
       "    </tr>\n",
       "  </tbody>\n",
       "</table>\n",
       "</div>"
      ],
      "text/plain": [
       "   TV  Radio  Social_Media Influencer   Sales   Size  isLarge   Area  \\\n",
       "0  16   6.57          2.91       Mega   54.73  Small        0  Urban   \n",
       "1  13   9.24          2.41       Mega   46.68  Small        0  Rural   \n",
       "2  41  15.89          2.91       Mega  150.18  Large        1  Rural   \n",
       "3  83  30.02          6.92       Mega  298.25  Small        0  Rural   \n",
       "4  15   8.44          1.41      Micro   56.59  Large        1  Rural   \n",
       "\n",
       "   Area_Suburban  Area_Urban  \n",
       "0              0           1  \n",
       "1              0           0  \n",
       "2              0           0  \n",
       "3              0           0  \n",
       "4              0           0  "
      ]
     },
     "execution_count": 38,
     "metadata": {},
     "output_type": "execute_result"
    }
   ],
   "source": [
    "# Dummy Variable\n",
    "area_dummies = pd.get_dummies(df.Area, prefix = 'Area').iloc[:, 1:]\n",
    "df = pd.concat([df, area_dummies], axis = 1)\n",
    "df.head()\n",
    "# The above code is written to create Area_Suburban and Area_Urban from Area"
   ]
  },
  {
   "cell_type": "code",
   "execution_count": 40,
   "id": "645725c0",
   "metadata": {},
   "outputs": [
    {
     "name": "stdout",
     "output_type": "stream",
     "text": [
      "['TV', 'Radio', 'Social_Media', 'isLarge', 'Area_Suburban', 'Area_Urban'] [ 3.16884264  0.85173488  0.43034923  5.02605592 -4.55973879 -0.31534877]\n"
     ]
    }
   ],
   "source": [
    "# Multiple Linear Regression\n",
    "feature_cols = ['TV', 'Radio', 'Social_Media', 'isLarge', 'Area_Suburban', 'Area_Urban']\n",
    "X = df[feature_cols]\n",
    "Y = df.Sales\n",
    "LM = LinearRegression()\n",
    "LM.fit(X, Y)\n",
    "print(feature_cols, LM.coef_)"
   ]
  },
  {
   "cell_type": "markdown",
   "id": "8ea8bbe0",
   "metadata": {},
   "source": [
    "Coefficents is Interpreted as 'Considering all the other variables as fixed being a Suburban area is associated with an average increase in Sales of \"455.97 widgets\" as compared to the baseline level {rural}, being an Urban area is associated with an average decrease in \"315.34 widgets\" as compared to the baseline level {rural}'"
   ]
  }
 ],
 "metadata": {
  "kernelspec": {
   "display_name": "Python 3 (ipykernel)",
   "language": "python",
   "name": "python3"
  },
  "language_info": {
   "codemirror_mode": {
    "name": "ipython",
    "version": 3
   },
   "file_extension": ".py",
   "mimetype": "text/x-python",
   "name": "python",
   "nbconvert_exporter": "python",
   "pygments_lexer": "ipython3",
   "version": "3.9.12"
  }
 },
 "nbformat": 4,
 "nbformat_minor": 5
}
